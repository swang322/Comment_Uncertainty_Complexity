{
 "cells": [
  {
   "cell_type": "code",
   "execution_count": 2,
   "metadata": {},
   "outputs": [],
   "source": [
    "import networkx as nx\n",
    "import matplotlib.pyplot as plt\n",
    "import numpy as np\n",
    "import seaborn as sns\n",
    "import pandas as pd\n",
    "import scienceplots\n",
    "plt.style.use(['nature', 'no-latex'])"
   ]
  },
  {
   "cell_type": "markdown",
   "metadata": {},
   "source": [
    "1. Number of Articles\n",
    "> Re.csv is a rearranged copy of PKG23_A06_MeshHeadingList.csv"
   ]
  },
  {
   "cell_type": "markdown",
   "metadata": {},
   "source": [
    "1.1 Pubmed # Articles"
   ]
  },
  {
   "cell_type": "code",
   "execution_count": 15,
   "metadata": {},
   "outputs": [
    {
     "name": "stderr",
     "output_type": "stream",
     "text": [
      "Number of Articles: 314390853it [03:42, 1416117.35it/s]"
     ]
    },
    {
     "name": "stdout",
     "output_type": "stream",
     "text": [
      "30010608\n",
      "36472379\n"
     ]
    },
    {
     "name": "stderr",
     "output_type": "stream",
     "text": [
      "\n"
     ]
    }
   ],
   "source": [
    "from tqdm import tqdm\n",
    "prev = 0\n",
    "pmid_set = set()\n",
    "cnt = 0\n",
    "with open(\"../Dataset/Re.csv\", encoding=\"UTF-8\") as f:\n",
    "    title = f.readline()\n",
    "    for line in tqdm(f, desc=\"Number of Articles\"):\n",
    "        pmid = line.split(',')[0].strip('\"').strip(\"'\")\n",
    "        if pmid != prev:\n",
    "            pmid_set.add(pmid)\n",
    "            cnt +=1\n",
    "        prev = pmid\n",
    "print(cnt)\n",
    "print(pmid)"
   ]
  },
  {
   "cell_type": "code",
   "execution_count": 21,
   "metadata": {},
   "outputs": [
    {
     "data": {
      "text/plain": [
       "30010608"
      ]
     },
     "execution_count": 21,
     "metadata": {},
     "output_type": "execute_result"
    }
   ],
   "source": [
    "len(pmid_set)"
   ]
  },
  {
   "cell_type": "code",
   "execution_count": 13,
   "metadata": {},
   "outputs": [
    {
     "data": {
      "text/html": [
       "<div>\n",
       "<style scoped>\n",
       "    .dataframe tbody tr th:only-of-type {\n",
       "        vertical-align: middle;\n",
       "    }\n",
       "\n",
       "    .dataframe tbody tr th {\n",
       "        vertical-align: top;\n",
       "    }\n",
       "\n",
       "    .dataframe thead th {\n",
       "        text-align: right;\n",
       "    }\n",
       "</style>\n",
       "<table border=\"1\" class=\"dataframe\">\n",
       "  <thead>\n",
       "    <tr style=\"text-align: right;\">\n",
       "      <th></th>\n",
       "      <th>PMID</th>\n",
       "    </tr>\n",
       "  </thead>\n",
       "  <tbody>\n",
       "    <tr>\n",
       "      <th>0</th>\n",
       "      <td>1</td>\n",
       "    </tr>\n",
       "    <tr>\n",
       "      <th>1</th>\n",
       "      <td>1</td>\n",
       "    </tr>\n",
       "    <tr>\n",
       "      <th>2</th>\n",
       "      <td>1</td>\n",
       "    </tr>\n",
       "    <tr>\n",
       "      <th>3</th>\n",
       "      <td>1</td>\n",
       "    </tr>\n",
       "    <tr>\n",
       "      <th>4</th>\n",
       "      <td>1</td>\n",
       "    </tr>\n",
       "    <tr>\n",
       "      <th>...</th>\n",
       "      <td>...</td>\n",
       "    </tr>\n",
       "    <tr>\n",
       "      <th>314390848</th>\n",
       "      <td>36472375</td>\n",
       "    </tr>\n",
       "    <tr>\n",
       "      <th>314390849</th>\n",
       "      <td>36472375</td>\n",
       "    </tr>\n",
       "    <tr>\n",
       "      <th>314390850</th>\n",
       "      <td>36472379</td>\n",
       "    </tr>\n",
       "    <tr>\n",
       "      <th>314390851</th>\n",
       "      <td>36472379</td>\n",
       "    </tr>\n",
       "    <tr>\n",
       "      <th>314390852</th>\n",
       "      <td>36472379</td>\n",
       "    </tr>\n",
       "  </tbody>\n",
       "</table>\n",
       "<p>314390853 rows × 1 columns</p>\n",
       "</div>"
      ],
      "text/plain": [
       "               PMID\n",
       "0                 1\n",
       "1                 1\n",
       "2                 1\n",
       "3                 1\n",
       "4                 1\n",
       "...             ...\n",
       "314390848  36472375\n",
       "314390849  36472375\n",
       "314390850  36472379\n",
       "314390851  36472379\n",
       "314390852  36472379\n",
       "\n",
       "[314390853 rows x 1 columns]"
      ]
     },
     "execution_count": 13,
     "metadata": {},
     "output_type": "execute_result"
    }
   ],
   "source": [
    "df_pmid = pd.read_csv(\"../Dataset/PKG23_A06_MeshHeadingList.csv\", usecols=['PMID'])\n",
    "df_pmid"
   ]
  },
  {
   "cell_type": "code",
   "execution_count": 14,
   "metadata": {},
   "outputs": [
    {
     "data": {
      "text/plain": [
       "30010608"
      ]
     },
     "execution_count": 14,
     "metadata": {},
     "output_type": "execute_result"
    }
   ],
   "source": [
    "df_pmid[\"PMID\"].nunique()"
   ]
  },
  {
   "cell_type": "code",
   "execution_count": 20,
   "metadata": {},
   "outputs": [
    {
     "data": {
      "text/plain": [
       "set()"
      ]
     },
     "execution_count": 20,
     "metadata": {},
     "output_type": "execute_result"
    }
   ],
   "source": [
    "pmid_set2 = set(map(str, df_pmid[\"PMID\"].unique()))\n",
    "diff = pmid_set2.difference(pmid_set)\n",
    "diff"
   ]
  },
  {
   "cell_type": "markdown",
   "metadata": {},
   "source": [
    "1.2 Commented  # Articles"
   ]
  },
  {
   "cell_type": "code",
   "execution_count": 7,
   "metadata": {},
   "outputs": [
    {
     "data": {
      "text/html": [
       "<div>\n",
       "<style scoped>\n",
       "    .dataframe tbody tr th:only-of-type {\n",
       "        vertical-align: middle;\n",
       "    }\n",
       "\n",
       "    .dataframe tbody tr th {\n",
       "        vertical-align: top;\n",
       "    }\n",
       "\n",
       "    .dataframe thead th {\n",
       "        text-align: right;\n",
       "    }\n",
       "</style>\n",
       "<table border=\"1\" class=\"dataframe\">\n",
       "  <thead>\n",
       "    <tr style=\"text-align: right;\">\n",
       "      <th></th>\n",
       "      <th>PMID_art</th>\n",
       "    </tr>\n",
       "  </thead>\n",
       "  <tbody>\n",
       "    <tr>\n",
       "      <th>0</th>\n",
       "      <td>30543192</td>\n",
       "    </tr>\n",
       "    <tr>\n",
       "      <th>1</th>\n",
       "      <td>24051115</td>\n",
       "    </tr>\n",
       "    <tr>\n",
       "      <th>2</th>\n",
       "      <td>33521713</td>\n",
       "    </tr>\n",
       "    <tr>\n",
       "      <th>3</th>\n",
       "      <td>26417971</td>\n",
       "    </tr>\n",
       "    <tr>\n",
       "      <th>4</th>\n",
       "      <td>24329643</td>\n",
       "    </tr>\n",
       "    <tr>\n",
       "      <th>...</th>\n",
       "      <td>...</td>\n",
       "    </tr>\n",
       "    <tr>\n",
       "      <th>850263</th>\n",
       "      <td>9506363</td>\n",
       "    </tr>\n",
       "    <tr>\n",
       "      <th>850264</th>\n",
       "      <td>15167435</td>\n",
       "    </tr>\n",
       "    <tr>\n",
       "      <th>850265</th>\n",
       "      <td>8044937</td>\n",
       "    </tr>\n",
       "    <tr>\n",
       "      <th>850266</th>\n",
       "      <td>28228602</td>\n",
       "    </tr>\n",
       "    <tr>\n",
       "      <th>850267</th>\n",
       "      <td>10823302</td>\n",
       "    </tr>\n",
       "  </tbody>\n",
       "</table>\n",
       "<p>850268 rows × 1 columns</p>\n",
       "</div>"
      ],
      "text/plain": [
       "        PMID_art\n",
       "0       30543192\n",
       "1       24051115\n",
       "2       33521713\n",
       "3       26417971\n",
       "4       24329643\n",
       "...          ...\n",
       "850263   9506363\n",
       "850264  15167435\n",
       "850265   8044937\n",
       "850266  28228602\n",
       "850267  10823302\n",
       "\n",
       "[850268 rows x 1 columns]"
      ]
     },
     "execution_count": 7,
     "metadata": {},
     "output_type": "execute_result"
    }
   ],
   "source": [
    "df_pmid_commented = pd.read_csv(\"../Dataset/2_PubMed_comted_pmid_220916.csv\")\n",
    "df_pmid_commented"
   ]
  },
  {
   "cell_type": "code",
   "execution_count": 8,
   "metadata": {},
   "outputs": [
    {
     "data": {
      "text/plain": [
       "850268"
      ]
     },
     "execution_count": 8,
     "metadata": {},
     "output_type": "execute_result"
    }
   ],
   "source": [
    "df_pmid_commented['PMID_art'].nunique()"
   ]
  },
  {
   "cell_type": "code",
   "execution_count": 9,
   "metadata": {},
   "outputs": [],
   "source": [
    "commented_pmid_set = set(df_pmid_commented['PMID_art'].unique())"
   ]
  },
  {
   "cell_type": "markdown",
   "metadata": {},
   "source": [
    "2. Number of Descriptor MeSH headings"
   ]
  },
  {
   "cell_type": "markdown",
   "metadata": {},
   "source": [
    "2.1 Pubmed"
   ]
  },
  {
   "cell_type": "code",
   "execution_count": 3,
   "metadata": {},
   "outputs": [
    {
     "data": {
      "text/html": [
       "<div>\n",
       "<style scoped>\n",
       "    .dataframe tbody tr th:only-of-type {\n",
       "        vertical-align: middle;\n",
       "    }\n",
       "\n",
       "    .dataframe tbody tr th {\n",
       "        vertical-align: top;\n",
       "    }\n",
       "\n",
       "    .dataframe thead th {\n",
       "        text-align: right;\n",
       "    }\n",
       "</style>\n",
       "<table border=\"1\" class=\"dataframe\">\n",
       "  <thead>\n",
       "    <tr style=\"text-align: right;\">\n",
       "      <th></th>\n",
       "      <th>PMID</th>\n",
       "      <th>DescriptorName</th>\n",
       "      <th>DescriptorName_MajorTopicYN</th>\n",
       "      <th>DescriptorName_Type</th>\n",
       "      <th>DescriptorName_UI</th>\n",
       "      <th>QualifierName</th>\n",
       "    </tr>\n",
       "  </thead>\n",
       "  <tbody>\n",
       "    <tr>\n",
       "      <th>0</th>\n",
       "      <td>1</td>\n",
       "      <td>Aldehyde Oxidoreductases</td>\n",
       "      <td>N</td>\n",
       "      <td>NaN</td>\n",
       "      <td>D000445</td>\n",
       "      <td>N:Q000378:metabolism</td>\n",
       "    </tr>\n",
       "    <tr>\n",
       "      <th>1</th>\n",
       "      <td>1</td>\n",
       "      <td>Animals</td>\n",
       "      <td>N</td>\n",
       "      <td>NaN</td>\n",
       "      <td>D000818</td>\n",
       "      <td>NaN</td>\n",
       "    </tr>\n",
       "    <tr>\n",
       "      <th>2</th>\n",
       "      <td>1</td>\n",
       "      <td>Body Fluids</td>\n",
       "      <td>N</td>\n",
       "      <td>NaN</td>\n",
       "      <td>D001826</td>\n",
       "      <td>Y:Q000032:analysis</td>\n",
       "    </tr>\n",
       "    <tr>\n",
       "      <th>3</th>\n",
       "      <td>1</td>\n",
       "      <td>Carbon Dioxide</td>\n",
       "      <td>N</td>\n",
       "      <td>NaN</td>\n",
       "      <td>D002245</td>\n",
       "      <td>N:Q000097:blood</td>\n",
       "    </tr>\n",
       "    <tr>\n",
       "      <th>4</th>\n",
       "      <td>1</td>\n",
       "      <td>Formates</td>\n",
       "      <td>N</td>\n",
       "      <td>NaN</td>\n",
       "      <td>D005561</td>\n",
       "      <td>N:Q000097:blood;Y:Q000506:poisoning</td>\n",
       "    </tr>\n",
       "    <tr>\n",
       "      <th>...</th>\n",
       "      <td>...</td>\n",
       "      <td>...</td>\n",
       "      <td>...</td>\n",
       "      <td>...</td>\n",
       "      <td>...</td>\n",
       "      <td>...</td>\n",
       "    </tr>\n",
       "    <tr>\n",
       "      <th>314390848</th>\n",
       "      <td>36472375</td>\n",
       "      <td>United States</td>\n",
       "      <td>N</td>\n",
       "      <td>Geographic</td>\n",
       "      <td>D014481</td>\n",
       "      <td>NaN</td>\n",
       "    </tr>\n",
       "    <tr>\n",
       "      <th>314390849</th>\n",
       "      <td>36472375</td>\n",
       "      <td>Awards and Prizes</td>\n",
       "      <td>Y</td>\n",
       "      <td>NaN</td>\n",
       "      <td>D001363</td>\n",
       "      <td>NaN</td>\n",
       "    </tr>\n",
       "    <tr>\n",
       "      <th>314390850</th>\n",
       "      <td>36472379</td>\n",
       "      <td>Humans</td>\n",
       "      <td>N</td>\n",
       "      <td>NaN</td>\n",
       "      <td>D006801</td>\n",
       "      <td>NaN</td>\n",
       "    </tr>\n",
       "    <tr>\n",
       "      <th>314390851</th>\n",
       "      <td>36472379</td>\n",
       "      <td>End Stage Liver Disease</td>\n",
       "      <td>Y</td>\n",
       "      <td>NaN</td>\n",
       "      <td>D058625</td>\n",
       "      <td>NaN</td>\n",
       "    </tr>\n",
       "    <tr>\n",
       "      <th>314390852</th>\n",
       "      <td>36472379</td>\n",
       "      <td>Liver Transplantation</td>\n",
       "      <td>Y</td>\n",
       "      <td>NaN</td>\n",
       "      <td>D016031</td>\n",
       "      <td>NaN</td>\n",
       "    </tr>\n",
       "  </tbody>\n",
       "</table>\n",
       "<p>314390853 rows × 6 columns</p>\n",
       "</div>"
      ],
      "text/plain": [
       "               PMID            DescriptorName DescriptorName_MajorTopicYN  \\\n",
       "0                 1  Aldehyde Oxidoreductases                           N   \n",
       "1                 1                   Animals                           N   \n",
       "2                 1               Body Fluids                           N   \n",
       "3                 1            Carbon Dioxide                           N   \n",
       "4                 1                  Formates                           N   \n",
       "...             ...                       ...                         ...   \n",
       "314390848  36472375             United States                           N   \n",
       "314390849  36472375         Awards and Prizes                           Y   \n",
       "314390850  36472379                    Humans                           N   \n",
       "314390851  36472379   End Stage Liver Disease                           Y   \n",
       "314390852  36472379     Liver Transplantation                           Y   \n",
       "\n",
       "          DescriptorName_Type DescriptorName_UI  \\\n",
       "0                         NaN           D000445   \n",
       "1                         NaN           D000818   \n",
       "2                         NaN           D001826   \n",
       "3                         NaN           D002245   \n",
       "4                         NaN           D005561   \n",
       "...                       ...               ...   \n",
       "314390848          Geographic           D014481   \n",
       "314390849                 NaN           D001363   \n",
       "314390850                 NaN           D006801   \n",
       "314390851                 NaN           D058625   \n",
       "314390852                 NaN           D016031   \n",
       "\n",
       "                                 QualifierName  \n",
       "0                         N:Q000378:metabolism  \n",
       "1                                          NaN  \n",
       "2                           Y:Q000032:analysis  \n",
       "3                              N:Q000097:blood  \n",
       "4          N:Q000097:blood;Y:Q000506:poisoning  \n",
       "...                                        ...  \n",
       "314390848                                  NaN  \n",
       "314390849                                  NaN  \n",
       "314390850                                  NaN  \n",
       "314390851                                  NaN  \n",
       "314390852                                  NaN  \n",
       "\n",
       "[314390853 rows x 6 columns]"
      ]
     },
     "execution_count": 3,
     "metadata": {},
     "output_type": "execute_result"
    }
   ],
   "source": [
    "df = pd.read_csv(\"../Dataset/PKG23_A06_MeshHeadingList.csv\")\n",
    "df"
   ]
  },
  {
   "cell_type": "code",
   "execution_count": 4,
   "metadata": {},
   "outputs": [],
   "source": [
    "pd.set_option('display.float_format', lambda x: '%.3f' % x)"
   ]
  },
  {
   "cell_type": "code",
   "execution_count": 27,
   "metadata": {},
   "outputs": [
    {
     "data": {
      "text/plain": [
       "count   30010608.000\n",
       "mean          10.476\n",
       "std            5.023\n",
       "min            1.000\n",
       "25%            7.000\n",
       "50%           10.000\n",
       "75%           14.000\n",
       "max           68.000\n",
       "Name: DescriptorName_UI, dtype: float64"
      ]
     },
     "execution_count": 27,
     "metadata": {},
     "output_type": "execute_result"
    }
   ],
   "source": [
    "grouped = df.groupby(\"PMID\")['DescriptorName_UI'].agg(len)\n",
    "grouped.describe()"
   ]
  },
  {
   "cell_type": "code",
   "execution_count": 18,
   "metadata": {},
   "outputs": [
    {
     "data": {
      "image/png": "[encoded data removed]",
      "text/plain": [
       "<Figure size 990x750 with 1 Axes>"
      ]
     },
     "metadata": {
      "needs_background": "light"
     },
     "output_type": "display_data"
    }
   ],
   "source": [
    "plt.figure(dpi=300)\n",
    "sns.histplot(grouped, log_scale=(False, True), label='all', bins=range(0, 76, 5))\n",
    "plt.title(r\"Distribution of # MeshTopics\")\n",
    "plt.show()"
   ]
  },
  {
   "cell_type": "markdown",
   "metadata": {},
   "source": [
    "2.2 Commented"
   ]
  },
  {
   "cell_type": "code",
   "execution_count": 10,
   "metadata": {},
   "outputs": [
    {
     "data": {
      "text/html": [
       "<div>\n",
       "<style scoped>\n",
       "    .dataframe tbody tr th:only-of-type {\n",
       "        vertical-align: middle;\n",
       "    }\n",
       "\n",
       "    .dataframe tbody tr th {\n",
       "        vertical-align: top;\n",
       "    }\n",
       "\n",
       "    .dataframe thead th {\n",
       "        text-align: right;\n",
       "    }\n",
       "</style>\n",
       "<table border=\"1\" class=\"dataframe\">\n",
       "  <thead>\n",
       "    <tr style=\"text-align: right;\">\n",
       "      <th></th>\n",
       "      <th>PMID</th>\n",
       "      <th>DescriptorName</th>\n",
       "      <th>DescriptorName_MajorTopicYN</th>\n",
       "      <th>DescriptorName_Type</th>\n",
       "      <th>DescriptorName_UI</th>\n",
       "      <th>QualifierName</th>\n",
       "    </tr>\n",
       "  </thead>\n",
       "  <tbody>\n",
       "    <tr>\n",
       "      <th>1248</th>\n",
       "      <td>95</td>\n",
       "      <td>Fibrinogen</td>\n",
       "      <td>Y</td>\n",
       "      <td>NaN</td>\n",
       "      <td>D005340</td>\n",
       "      <td>NaN</td>\n",
       "    </tr>\n",
       "    <tr>\n",
       "      <th>1249</th>\n",
       "      <td>95</td>\n",
       "      <td>Hydrogen-Ion Concentration</td>\n",
       "      <td>N</td>\n",
       "      <td>NaN</td>\n",
       "      <td>D006863</td>\n",
       "      <td>NaN</td>\n",
       "    </tr>\n",
       "    <tr>\n",
       "      <th>1250</th>\n",
       "      <td>95</td>\n",
       "      <td>Molecular Conformation</td>\n",
       "      <td>N</td>\n",
       "      <td>NaN</td>\n",
       "      <td>D008968</td>\n",
       "      <td>NaN</td>\n",
       "    </tr>\n",
       "    <tr>\n",
       "      <th>1251</th>\n",
       "      <td>95</td>\n",
       "      <td>Spectrometry, Fluorescence</td>\n",
       "      <td>N</td>\n",
       "      <td>NaN</td>\n",
       "      <td>D013050</td>\n",
       "      <td>NaN</td>\n",
       "    </tr>\n",
       "    <tr>\n",
       "      <th>1252</th>\n",
       "      <td>95</td>\n",
       "      <td>Temperature</td>\n",
       "      <td>N</td>\n",
       "      <td>NaN</td>\n",
       "      <td>D013696</td>\n",
       "      <td>NaN</td>\n",
       "    </tr>\n",
       "    <tr>\n",
       "      <th>...</th>\n",
       "      <td>...</td>\n",
       "      <td>...</td>\n",
       "      <td>...</td>\n",
       "      <td>...</td>\n",
       "      <td>...</td>\n",
       "      <td>...</td>\n",
       "    </tr>\n",
       "    <tr>\n",
       "      <th>313343835</th>\n",
       "      <td>36112522</td>\n",
       "      <td>Magnetic Resonance Imaging</td>\n",
       "      <td>Y</td>\n",
       "      <td>NaN</td>\n",
       "      <td>D008279</td>\n",
       "      <td>N:Q000379:methods</td>\n",
       "    </tr>\n",
       "    <tr>\n",
       "      <th>313343836</th>\n",
       "      <td>36112522</td>\n",
       "      <td>Artifacts</td>\n",
       "      <td>Y</td>\n",
       "      <td>NaN</td>\n",
       "      <td>D016477</td>\n",
       "      <td>NaN</td>\n",
       "    </tr>\n",
       "    <tr>\n",
       "      <th>313343837</th>\n",
       "      <td>36112522</td>\n",
       "      <td>Contrast Media</td>\n",
       "      <td>N</td>\n",
       "      <td>NaN</td>\n",
       "      <td>D003287</td>\n",
       "      <td>NaN</td>\n",
       "    </tr>\n",
       "    <tr>\n",
       "      <th>313343838</th>\n",
       "      <td>36112522</td>\n",
       "      <td>Diffusion Magnetic Resonance Imaging</td>\n",
       "      <td>N</td>\n",
       "      <td>NaN</td>\n",
       "      <td>D038524</td>\n",
       "      <td>NaN</td>\n",
       "    </tr>\n",
       "    <tr>\n",
       "      <th>313343839</th>\n",
       "      <td>36112522</td>\n",
       "      <td>Liver</td>\n",
       "      <td>N</td>\n",
       "      <td>NaN</td>\n",
       "      <td>D008099</td>\n",
       "      <td>N:Q000473:pathology</td>\n",
       "    </tr>\n",
       "  </tbody>\n",
       "</table>\n",
       "<p>10005888 rows × 6 columns</p>\n",
       "</div>"
      ],
      "text/plain": [
       "               PMID                        DescriptorName  \\\n",
       "1248             95                            Fibrinogen   \n",
       "1249             95            Hydrogen-Ion Concentration   \n",
       "1250             95                Molecular Conformation   \n",
       "1251             95            Spectrometry, Fluorescence   \n",
       "1252             95                           Temperature   \n",
       "...             ...                                   ...   \n",
       "313343835  36112522            Magnetic Resonance Imaging   \n",
       "313343836  36112522                             Artifacts   \n",
       "313343837  36112522                        Contrast Media   \n",
       "313343838  36112522  Diffusion Magnetic Resonance Imaging   \n",
       "313343839  36112522                                 Liver   \n",
       "\n",
       "          DescriptorName_MajorTopicYN DescriptorName_Type DescriptorName_UI  \\\n",
       "1248                                Y                 NaN           D005340   \n",
       "1249                                N                 NaN           D006863   \n",
       "1250                                N                 NaN           D008968   \n",
       "1251                                N                 NaN           D013050   \n",
       "1252                                N                 NaN           D013696   \n",
       "...                               ...                 ...               ...   \n",
       "313343835                           Y                 NaN           D008279   \n",
       "313343836                           Y                 NaN           D016477   \n",
       "313343837                           N                 NaN           D003287   \n",
       "313343838                           N                 NaN           D038524   \n",
       "313343839                           N                 NaN           D008099   \n",
       "\n",
       "                 QualifierName  \n",
       "1248                       NaN  \n",
       "1249                       NaN  \n",
       "1250                       NaN  \n",
       "1251                       NaN  \n",
       "1252                       NaN  \n",
       "...                        ...  \n",
       "313343835    N:Q000379:methods  \n",
       "313343836                  NaN  \n",
       "313343837                  NaN  \n",
       "313343838                  NaN  \n",
       "313343839  N:Q000473:pathology  \n",
       "\n",
       "[10005888 rows x 6 columns]"
      ]
     },
     "execution_count": 10,
     "metadata": {},
     "output_type": "execute_result"
    }
   ],
   "source": [
    "df_commented = df.loc[df['PMID'].isin(commented_pmid_set)]\n",
    "df_commented"
   ]
  },
  {
   "cell_type": "code",
   "execution_count": 24,
   "metadata": {},
   "outputs": [
    {
     "data": {
      "text/plain": [
       "829791"
      ]
     },
     "execution_count": 24,
     "metadata": {},
     "output_type": "execute_result"
    }
   ],
   "source": [
    "df_commented['PMID'].nunique()"
   ]
  },
  {
   "cell_type": "code",
   "execution_count": 28,
   "metadata": {},
   "outputs": [
    {
     "data": {
      "text/plain": [
       "count   829791.000\n",
       "mean        12.058\n",
       "std          5.555\n",
       "min          1.000\n",
       "25%          8.000\n",
       "50%         12.000\n",
       "75%         16.000\n",
       "max         51.000\n",
       "Name: DescriptorName_UI, dtype: float64"
      ]
     },
     "execution_count": 28,
     "metadata": {},
     "output_type": "execute_result"
    }
   ],
   "source": [
    "grouped_cmt = df_commented.groupby(\"PMID\")['DescriptorName_UI'].agg(len)\n",
    "grouped_cmt.describe()"
   ]
  },
  {
   "cell_type": "code",
   "execution_count": 32,
   "metadata": {},
   "outputs": [
    {
     "data": {
      "image/png": "[encoded data removed]",
      "text/plain": [
       "<Figure size 990x750 with 1 Axes>"
      ]
     },
     "metadata": {
      "needs_background": "light"
     },
     "output_type": "display_data"
    }
   ],
   "source": [
    "plt.figure(dpi=300)\n",
    "sns.histplot(grouped, log_scale=(False, True), label='all', bins=range(0, 76, 5), color='#004c6d', alpha=0.5)\n",
    "sns.histplot(grouped_cmt, log_scale=(False, True), label='Commented', bins=range(0, 76, 5), color='#1e6d37', alpha=0.5)\n",
    "plt.title(r\"Distribution of # MeshTopics (Commented)\")\n",
    "plt.legend()\n",
    "plt.show()"
   ]
  },
  {
   "cell_type": "markdown",
   "metadata": {},
   "source": [
    "3. Number of Major DescriptorMeSH headings"
   ]
  },
  {
   "cell_type": "markdown",
   "metadata": {},
   "source": [
    "3.1 Proportion"
   ]
  },
  {
   "cell_type": "code",
   "execution_count": null,
   "metadata": {},
   "outputs": [],
   "source": [
    "df_major = df[df['DescriptorName_MajorTopicYN']=='Y']\n",
    "df_commented_major = df_commented[df_commented['DescriptorName_MajorTopicYN']=='Y']"
   ]
  },
  {
   "cell_type": "code",
   "execution_count": 38,
   "metadata": {},
   "outputs": [
    {
     "name": "stdout",
     "output_type": "stream",
     "text": [
      "17106579 / 30010608 = 0.5700177417265255\n"
     ]
    }
   ],
   "source": [
    "# Pubmed\n",
    "major = df_major[\"PMID\"].nunique()\n",
    "total = df[\"PMID\"].nunique(())\n",
    "print(f\"{major} / {total} = {major / total}\")"
   ]
  },
  {
   "cell_type": "code",
   "execution_count": 39,
   "metadata": {},
   "outputs": [
    {
     "name": "stdout",
     "output_type": "stream",
     "text": [
      "486147 / 829791 = 0.5858668026045113\n"
     ]
    }
   ],
   "source": [
    "# Commented\n",
    "major = df_commented_major['PMID'].nunique()\n",
    "total = df_commented[\"PMID\"].nunique()\n",
    "print(f\"{major} / {total} = {major / total}\")"
   ]
  },
  {
   "cell_type": "markdown",
   "metadata": {},
   "source": [
    "3.2  Distribution"
   ]
  },
  {
   "cell_type": "code",
   "execution_count": 40,
   "metadata": {},
   "outputs": [
    {
     "data": {
      "text/plain": [
       "count   17106579.000\n",
       "mean           2.012\n",
       "std            1.428\n",
       "min            1.000\n",
       "25%            1.000\n",
       "50%            2.000\n",
       "75%            2.000\n",
       "max           44.000\n",
       "Name: DescriptorName_UI, dtype: float64"
      ]
     },
     "execution_count": 40,
     "metadata": {},
     "output_type": "execute_result"
    }
   ],
   "source": [
    "# Pubmed major topic\n",
    "grouped = df_major.groupby(\"PMID\")['DescriptorName_UI'].agg(len)\n",
    "grouped.describe()"
   ]
  },
  {
   "cell_type": "code",
   "execution_count": 41,
   "metadata": {},
   "outputs": [
    {
     "data": {
      "image/png": "[encoded data removed]",
      "text/plain": [
       "<Figure size 990x750 with 1 Axes>"
      ]
     },
     "metadata": {
      "needs_background": "light"
     },
     "output_type": "display_data"
    }
   ],
   "source": [
    "plt.figure(dpi=300)\n",
    "sns.histplot(grouped, log_scale=(False, True), label='all', bins=range(0, 76, 5))\n",
    "plt.title(r\"Distribution of # MajorMeshTopics\")\n",
    "plt.show()"
   ]
  },
  {
   "cell_type": "code",
   "execution_count": 42,
   "metadata": {},
   "outputs": [
    {
     "data": {
      "text/plain": [
       "count   486147.000\n",
       "mean         1.836\n",
       "std          1.017\n",
       "min          1.000\n",
       "25%          1.000\n",
       "50%          2.000\n",
       "75%          2.000\n",
       "max         19.000\n",
       "Name: DescriptorName_UI, dtype: float64"
      ]
     },
     "execution_count": 42,
     "metadata": {},
     "output_type": "execute_result"
    }
   ],
   "source": [
    "# Commented major topic\n",
    "grouped_cmt = df_commented_major.groupby(\"PMID\")['DescriptorName_UI'].agg(len)\n",
    "grouped_cmt.describe()"
   ]
  },
  {
   "cell_type": "code",
   "execution_count": 45,
   "metadata": {},
   "outputs": [
    {
     "data": {
      "image/png": "[encoded data removed]",
      "text/plain": [
       "<Figure size 990x750 with 1 Axes>"
      ]
     },
     "metadata": {
      "needs_background": "light"
     },
     "output_type": "display_data"
    }
   ],
   "source": [
    "plt.figure(dpi=300)\n",
    "sns.histplot(grouped, log_scale=(False, True), label='all', bins=range(0, 76, 5), color='#004c6d', alpha=0.5)\n",
    "sns.histplot(grouped_cmt, log_scale=(False, True), label='commented', bins=range(0, 76, 5), color='#1e6d37', alpha=0.5)\n",
    "plt.title(r\"Distribution of # MajorMeshTopics (Commented)\")\n",
    "plt.legend()\n",
    "plt.show()"
   ]
  },
  {
   "cell_type": "markdown",
   "metadata": {},
   "source": [
    "4. Number of Qualifiers"
   ]
  },
  {
   "cell_type": "markdown",
   "metadata": {},
   "source": [
    "4.1 Multi Qualifier"
   ]
  },
  {
   "cell_type": "code",
   "execution_count": 11,
   "metadata": {},
   "outputs": [],
   "source": [
    "df_qualifers = df[df[\"QualifierName\"].notnull()][[\"PMID\", \"QualifierName\"]]\n",
    "df_commented_qualifers = df_commented[df_commented[\"QualifierName\"].notnull()][[\"PMID\", \"QualifierName\"]]"
   ]
  },
  {
   "cell_type": "code",
   "execution_count": 12,
   "metadata": {},
   "outputs": [
    {
     "data": {
      "text/html": [
       "<div>\n",
       "<style scoped>\n",
       "    .dataframe tbody tr th:only-of-type {\n",
       "        vertical-align: middle;\n",
       "    }\n",
       "\n",
       "    .dataframe tbody tr th {\n",
       "        vertical-align: top;\n",
       "    }\n",
       "\n",
       "    .dataframe thead th {\n",
       "        text-align: right;\n",
       "    }\n",
       "</style>\n",
       "<table border=\"1\" class=\"dataframe\">\n",
       "  <thead>\n",
       "    <tr style=\"text-align: right;\">\n",
       "      <th></th>\n",
       "      <th>PMID</th>\n",
       "      <th>QualifierName</th>\n",
       "    </tr>\n",
       "  </thead>\n",
       "  <tbody>\n",
       "    <tr>\n",
       "      <th>0</th>\n",
       "      <td>1</td>\n",
       "      <td>N:Q000378:metabolism</td>\n",
       "    </tr>\n",
       "    <tr>\n",
       "      <th>2</th>\n",
       "      <td>1</td>\n",
       "      <td>Y:Q000032:analysis</td>\n",
       "    </tr>\n",
       "    <tr>\n",
       "      <th>3</th>\n",
       "      <td>1</td>\n",
       "      <td>N:Q000097:blood</td>\n",
       "    </tr>\n",
       "    <tr>\n",
       "      <th>4</th>\n",
       "      <td>1</td>\n",
       "      <td>N:Q000097:blood;Y:Q000506:poisoning</td>\n",
       "    </tr>\n",
       "    <tr>\n",
       "      <th>9</th>\n",
       "      <td>1</td>\n",
       "      <td>N:Q000097:blood</td>\n",
       "    </tr>\n",
       "    <tr>\n",
       "      <th>...</th>\n",
       "      <td>...</td>\n",
       "      <td>...</td>\n",
       "    </tr>\n",
       "    <tr>\n",
       "      <th>314390834</th>\n",
       "      <td>36472364</td>\n",
       "      <td>N:Q000235:genetics</td>\n",
       "    </tr>\n",
       "    <tr>\n",
       "      <th>314390840</th>\n",
       "      <td>36472365</td>\n",
       "      <td>N:Q000175:diagnosis</td>\n",
       "    </tr>\n",
       "    <tr>\n",
       "      <th>314390843</th>\n",
       "      <td>36472366</td>\n",
       "      <td>N:Q000175:diagnosis</td>\n",
       "    </tr>\n",
       "    <tr>\n",
       "      <th>314390845</th>\n",
       "      <td>36472366</td>\n",
       "      <td>N:Q000175:diagnosis</td>\n",
       "    </tr>\n",
       "    <tr>\n",
       "      <th>314390846</th>\n",
       "      <td>36472366</td>\n",
       "      <td>N:Q000175:diagnosis</td>\n",
       "    </tr>\n",
       "  </tbody>\n",
       "</table>\n",
       "<p>120072914 rows × 2 columns</p>\n",
       "</div>"
      ],
      "text/plain": [
       "               PMID                        QualifierName\n",
       "0                 1                 N:Q000378:metabolism\n",
       "2                 1                   Y:Q000032:analysis\n",
       "3                 1                      N:Q000097:blood\n",
       "4                 1  N:Q000097:blood;Y:Q000506:poisoning\n",
       "9                 1                      N:Q000097:blood\n",
       "...             ...                                  ...\n",
       "314390834  36472364                   N:Q000235:genetics\n",
       "314390840  36472365                  N:Q000175:diagnosis\n",
       "314390843  36472366                  N:Q000175:diagnosis\n",
       "314390845  36472366                  N:Q000175:diagnosis\n",
       "314390846  36472366                  N:Q000175:diagnosis\n",
       "\n",
       "[120072914 rows x 2 columns]"
      ]
     },
     "execution_count": 12,
     "metadata": {},
     "output_type": "execute_result"
    }
   ],
   "source": [
    "# multi value in one row\n",
    "df_qualifers"
   ]
  },
  {
   "cell_type": "code",
   "execution_count": 13,
   "metadata": {},
   "outputs": [
    {
     "data": {
      "text/html": [
       "<div>\n",
       "<style scoped>\n",
       "    .dataframe tbody tr th:only-of-type {\n",
       "        vertical-align: middle;\n",
       "    }\n",
       "\n",
       "    .dataframe tbody tr th {\n",
       "        vertical-align: top;\n",
       "    }\n",
       "\n",
       "    .dataframe thead th {\n",
       "        text-align: right;\n",
       "    }\n",
       "</style>\n",
       "<table border=\"1\" class=\"dataframe\">\n",
       "  <thead>\n",
       "    <tr style=\"text-align: right;\">\n",
       "      <th></th>\n",
       "      <th>PMID</th>\n",
       "      <th>QualifierName</th>\n",
       "      <th>Num</th>\n",
       "    </tr>\n",
       "  </thead>\n",
       "  <tbody>\n",
       "    <tr>\n",
       "      <th>0</th>\n",
       "      <td>1</td>\n",
       "      <td>N:Q000378:metabolism</td>\n",
       "      <td>1</td>\n",
       "    </tr>\n",
       "    <tr>\n",
       "      <th>2</th>\n",
       "      <td>1</td>\n",
       "      <td>Y:Q000032:analysis</td>\n",
       "      <td>1</td>\n",
       "    </tr>\n",
       "    <tr>\n",
       "      <th>3</th>\n",
       "      <td>1</td>\n",
       "      <td>N:Q000097:blood</td>\n",
       "      <td>1</td>\n",
       "    </tr>\n",
       "    <tr>\n",
       "      <th>4</th>\n",
       "      <td>1</td>\n",
       "      <td>N:Q000097:blood;Y:Q000506:poisoning</td>\n",
       "      <td>2</td>\n",
       "    </tr>\n",
       "    <tr>\n",
       "      <th>9</th>\n",
       "      <td>1</td>\n",
       "      <td>N:Q000097:blood</td>\n",
       "      <td>1</td>\n",
       "    </tr>\n",
       "    <tr>\n",
       "      <th>...</th>\n",
       "      <td>...</td>\n",
       "      <td>...</td>\n",
       "      <td>...</td>\n",
       "    </tr>\n",
       "    <tr>\n",
       "      <th>314390834</th>\n",
       "      <td>36472364</td>\n",
       "      <td>N:Q000235:genetics</td>\n",
       "      <td>1</td>\n",
       "    </tr>\n",
       "    <tr>\n",
       "      <th>314390840</th>\n",
       "      <td>36472365</td>\n",
       "      <td>N:Q000175:diagnosis</td>\n",
       "      <td>1</td>\n",
       "    </tr>\n",
       "    <tr>\n",
       "      <th>314390843</th>\n",
       "      <td>36472366</td>\n",
       "      <td>N:Q000175:diagnosis</td>\n",
       "      <td>1</td>\n",
       "    </tr>\n",
       "    <tr>\n",
       "      <th>314390845</th>\n",
       "      <td>36472366</td>\n",
       "      <td>N:Q000175:diagnosis</td>\n",
       "      <td>1</td>\n",
       "    </tr>\n",
       "    <tr>\n",
       "      <th>314390846</th>\n",
       "      <td>36472366</td>\n",
       "      <td>N:Q000175:diagnosis</td>\n",
       "      <td>1</td>\n",
       "    </tr>\n",
       "  </tbody>\n",
       "</table>\n",
       "<p>120072914 rows × 3 columns</p>\n",
       "</div>"
      ],
      "text/plain": [
       "               PMID                        QualifierName  Num\n",
       "0                 1                 N:Q000378:metabolism    1\n",
       "2                 1                   Y:Q000032:analysis    1\n",
       "3                 1                      N:Q000097:blood    1\n",
       "4                 1  N:Q000097:blood;Y:Q000506:poisoning    2\n",
       "9                 1                      N:Q000097:blood    1\n",
       "...             ...                                  ...  ...\n",
       "314390834  36472364                   N:Q000235:genetics    1\n",
       "314390840  36472365                  N:Q000175:diagnosis    1\n",
       "314390843  36472366                  N:Q000175:diagnosis    1\n",
       "314390845  36472366                  N:Q000175:diagnosis    1\n",
       "314390846  36472366                  N:Q000175:diagnosis    1\n",
       "\n",
       "[120072914 rows x 3 columns]"
      ]
     },
     "execution_count": 13,
     "metadata": {},
     "output_type": "execute_result"
    }
   ],
   "source": [
    "# how frequently does this happen\n",
    "def count_qualifiers(x):\n",
    "    return x.count(';') + 1\n",
    "\n",
    "df_qualifers[\"Num\"] = df_qualifers['QualifierName'].apply(lambda x: count_qualifiers(x))\n",
    "df_qualifers"
   ]
  },
  {
   "cell_type": "code",
   "execution_count": 14,
   "metadata": {},
   "outputs": [
    {
     "data": {
      "text/plain": [
       "count   120072914.000\n",
       "mean            1.404\n",
       "std             0.677\n",
       "min             1.000\n",
       "25%             1.000\n",
       "50%             1.000\n",
       "75%             2.000\n",
       "max            14.000\n",
       "Name: Num, dtype: float64"
      ]
     },
     "execution_count": 14,
     "metadata": {},
     "output_type": "execute_result"
    }
   ],
   "source": [
    "df_qualifers[\"Num\"].describe()"
   ]
  },
  {
   "cell_type": "code",
   "execution_count": 15,
   "metadata": {},
   "outputs": [
    {
     "data": {
      "text/plain": [
       "count   3547253.000\n",
       "mean          1.483\n",
       "std           0.732\n",
       "min           1.000\n",
       "25%           1.000\n",
       "50%           1.000\n",
       "75%           2.000\n",
       "max          10.000\n",
       "Name: Num, dtype: float64"
      ]
     },
     "execution_count": 15,
     "metadata": {},
     "output_type": "execute_result"
    }
   ],
   "source": [
    "df_commented_qualifers[\"Num\"] = df_commented_qualifers['QualifierName'].apply(lambda x: count_qualifiers(x))\n",
    "df_commented_qualifers[\"Num\"].describe()"
   ]
  },
  {
   "cell_type": "markdown",
   "metadata": {},
   "source": [
    "4.2 Proportion"
   ]
  },
  {
   "cell_type": "code",
   "execution_count": 16,
   "metadata": {},
   "outputs": [
    {
     "name": "stdout",
     "output_type": "stream",
     "text": [
      "26550070 / 30010608 = 0.8846895071236144\n"
     ]
    }
   ],
   "source": [
    "# Pubmed\n",
    "major = df_qualifers[\"PMID\"].nunique()\n",
    "total = df[\"PMID\"].nunique(())\n",
    "print(f\"{major} / {total} = {major / total}\")"
   ]
  },
  {
   "cell_type": "code",
   "execution_count": 17,
   "metadata": {},
   "outputs": [
    {
     "name": "stdout",
     "output_type": "stream",
     "text": [
      "760805 / 829791 = 0.9168634029532737\n"
     ]
    }
   ],
   "source": [
    "# Commented\n",
    "major = df_commented_qualifers[\"PMID\"].nunique()\n",
    "total = df_commented[\"PMID\"].nunique(())\n",
    "print(f\"{major} / {total} = {major / total}\")"
   ]
  },
  {
   "cell_type": "markdown",
   "metadata": {},
   "source": [
    "4.3 Distribution"
   ]
  },
  {
   "cell_type": "code",
   "execution_count": 18,
   "metadata": {},
   "outputs": [
    {
     "name": "stderr",
     "output_type": "stream",
     "text": [
      "<ipython-input-18-f2010f98f87f>:2: SettingWithCopyWarning: \n",
      "A value is trying to be set on a copy of a slice from a DataFrame.\n",
      "Try using .loc[row_indexer,col_indexer] = value instead\n",
      "\n",
      "See the caveats in the documentation: https://pandas.pydata.org/pandas-docs/stable/user_guide/indexing.html#returning-a-view-versus-a-copy\n",
      "  df_qualifier[\"QualifierName\"] = df_qualifier[\"QualifierName\"].str.split(\";\")\n"
     ]
    },
    {
     "data": {
      "text/html": [
       "<div>\n",
       "<style scoped>\n",
       "    .dataframe tbody tr th:only-of-type {\n",
       "        vertical-align: middle;\n",
       "    }\n",
       "\n",
       "    .dataframe tbody tr th {\n",
       "        vertical-align: top;\n",
       "    }\n",
       "\n",
       "    .dataframe thead th {\n",
       "        text-align: right;\n",
       "    }\n",
       "</style>\n",
       "<table border=\"1\" class=\"dataframe\">\n",
       "  <thead>\n",
       "    <tr style=\"text-align: right;\">\n",
       "      <th></th>\n",
       "      <th>PMID</th>\n",
       "      <th>QualifierName</th>\n",
       "      <th>isMajorTopic</th>\n",
       "      <th>QualifierID</th>\n",
       "    </tr>\n",
       "  </thead>\n",
       "  <tbody>\n",
       "    <tr>\n",
       "      <th>0</th>\n",
       "      <td>1</td>\n",
       "      <td>metabolism</td>\n",
       "      <td>N</td>\n",
       "      <td>Q000378</td>\n",
       "    </tr>\n",
       "    <tr>\n",
       "      <th>2</th>\n",
       "      <td>1</td>\n",
       "      <td>analysis</td>\n",
       "      <td>Y</td>\n",
       "      <td>Q000032</td>\n",
       "    </tr>\n",
       "    <tr>\n",
       "      <th>3</th>\n",
       "      <td>1</td>\n",
       "      <td>blood</td>\n",
       "      <td>N</td>\n",
       "      <td>Q000097</td>\n",
       "    </tr>\n",
       "    <tr>\n",
       "      <th>4</th>\n",
       "      <td>1</td>\n",
       "      <td>blood</td>\n",
       "      <td>N</td>\n",
       "      <td>Q000097</td>\n",
       "    </tr>\n",
       "    <tr>\n",
       "      <th>4</th>\n",
       "      <td>1</td>\n",
       "      <td>poisoning</td>\n",
       "      <td>Y</td>\n",
       "      <td>Q000506</td>\n",
       "    </tr>\n",
       "    <tr>\n",
       "      <th>...</th>\n",
       "      <td>...</td>\n",
       "      <td>...</td>\n",
       "      <td>...</td>\n",
       "      <td>...</td>\n",
       "    </tr>\n",
       "    <tr>\n",
       "      <th>314390834</th>\n",
       "      <td>36472364</td>\n",
       "      <td>genetics</td>\n",
       "      <td>N</td>\n",
       "      <td>Q000235</td>\n",
       "    </tr>\n",
       "    <tr>\n",
       "      <th>314390840</th>\n",
       "      <td>36472365</td>\n",
       "      <td>diagnosis</td>\n",
       "      <td>N</td>\n",
       "      <td>Q000175</td>\n",
       "    </tr>\n",
       "    <tr>\n",
       "      <th>314390843</th>\n",
       "      <td>36472366</td>\n",
       "      <td>diagnosis</td>\n",
       "      <td>N</td>\n",
       "      <td>Q000175</td>\n",
       "    </tr>\n",
       "    <tr>\n",
       "      <th>314390845</th>\n",
       "      <td>36472366</td>\n",
       "      <td>diagnosis</td>\n",
       "      <td>N</td>\n",
       "      <td>Q000175</td>\n",
       "    </tr>\n",
       "    <tr>\n",
       "      <th>314390846</th>\n",
       "      <td>36472366</td>\n",
       "      <td>diagnosis</td>\n",
       "      <td>N</td>\n",
       "      <td>Q000175</td>\n",
       "    </tr>\n",
       "  </tbody>\n",
       "</table>\n",
       "<p>168609320 rows × 4 columns</p>\n",
       "</div>"
      ],
      "text/plain": [
       "               PMID QualifierName isMajorTopic QualifierID\n",
       "0                 1    metabolism            N     Q000378\n",
       "2                 1      analysis            Y     Q000032\n",
       "3                 1         blood            N     Q000097\n",
       "4                 1         blood            N     Q000097\n",
       "4                 1     poisoning            Y     Q000506\n",
       "...             ...           ...          ...         ...\n",
       "314390834  36472364      genetics            N     Q000235\n",
       "314390840  36472365     diagnosis            N     Q000175\n",
       "314390843  36472366     diagnosis            N     Q000175\n",
       "314390845  36472366     diagnosis            N     Q000175\n",
       "314390846  36472366     diagnosis            N     Q000175\n",
       "\n",
       "[168609320 rows x 4 columns]"
      ]
     },
     "execution_count": 18,
     "metadata": {},
     "output_type": "execute_result"
    }
   ],
   "source": [
    "df_qualifier = df_qualifers[[\"PMID\",\"QualifierName\"]]\n",
    "df_qualifier[\"QualifierName\"] = df_qualifier[\"QualifierName\"].str.split(\";\")\n",
    "df_qualifier = df_qualifier.explode(\"QualifierName\")\n",
    "df_qualifier[['isMajorTopic', 'QualifierID', \"QualifierName\"]] = df_qualifier['QualifierName'].str.split(':', expand=True)\n",
    "df_qualifier\n"
   ]
  },
  {
   "cell_type": "code",
   "execution_count": 19,
   "metadata": {},
   "outputs": [
    {
     "data": {
      "text/html": [
       "<div>\n",
       "<style scoped>\n",
       "    .dataframe tbody tr th:only-of-type {\n",
       "        vertical-align: middle;\n",
       "    }\n",
       "\n",
       "    .dataframe tbody tr th {\n",
       "        vertical-align: top;\n",
       "    }\n",
       "\n",
       "    .dataframe thead th {\n",
       "        text-align: right;\n",
       "    }\n",
       "</style>\n",
       "<table border=\"1\" class=\"dataframe\">\n",
       "  <thead>\n",
       "    <tr style=\"text-align: right;\">\n",
       "      <th></th>\n",
       "      <th>PMID</th>\n",
       "      <th>QualifierName</th>\n",
       "      <th>isMajorTopic</th>\n",
       "      <th>QualifierID</th>\n",
       "    </tr>\n",
       "  </thead>\n",
       "  <tbody>\n",
       "    <tr>\n",
       "      <th>5567</th>\n",
       "      <td>477</td>\n",
       "      <td>metabolism</td>\n",
       "      <td>N</td>\n",
       "      <td>Q000378</td>\n",
       "    </tr>\n",
       "    <tr>\n",
       "      <th>5568</th>\n",
       "      <td>477</td>\n",
       "      <td>metabolism</td>\n",
       "      <td>N</td>\n",
       "      <td>Q000378</td>\n",
       "    </tr>\n",
       "    <tr>\n",
       "      <th>5569</th>\n",
       "      <td>477</td>\n",
       "      <td>metabolism</td>\n",
       "      <td>N</td>\n",
       "      <td>Q000378</td>\n",
       "    </tr>\n",
       "    <tr>\n",
       "      <th>5570</th>\n",
       "      <td>477</td>\n",
       "      <td>metabolism</td>\n",
       "      <td>N</td>\n",
       "      <td>Q000378</td>\n",
       "    </tr>\n",
       "    <tr>\n",
       "      <th>5571</th>\n",
       "      <td>477</td>\n",
       "      <td>metabolism</td>\n",
       "      <td>N</td>\n",
       "      <td>Q000378</td>\n",
       "    </tr>\n",
       "    <tr>\n",
       "      <th>...</th>\n",
       "      <td>...</td>\n",
       "      <td>...</td>\n",
       "      <td>...</td>\n",
       "      <td>...</td>\n",
       "    </tr>\n",
       "    <tr>\n",
       "      <th>313314567</th>\n",
       "      <td>36104064</td>\n",
       "      <td>epidemiology</td>\n",
       "      <td>N</td>\n",
       "      <td>Q000453</td>\n",
       "    </tr>\n",
       "    <tr>\n",
       "      <th>313314567</th>\n",
       "      <td>36104064</td>\n",
       "      <td>psychology</td>\n",
       "      <td>N</td>\n",
       "      <td>Q000523</td>\n",
       "    </tr>\n",
       "    <tr>\n",
       "      <th>313314572</th>\n",
       "      <td>36104064</td>\n",
       "      <td>psychology</td>\n",
       "      <td>N</td>\n",
       "      <td>Q000523</td>\n",
       "    </tr>\n",
       "    <tr>\n",
       "      <th>313343835</th>\n",
       "      <td>36112522</td>\n",
       "      <td>methods</td>\n",
       "      <td>N</td>\n",
       "      <td>Q000379</td>\n",
       "    </tr>\n",
       "    <tr>\n",
       "      <th>313343839</th>\n",
       "      <td>36112522</td>\n",
       "      <td>pathology</td>\n",
       "      <td>N</td>\n",
       "      <td>Q000473</td>\n",
       "    </tr>\n",
       "  </tbody>\n",
       "</table>\n",
       "<p>5259607 rows × 4 columns</p>\n",
       "</div>"
      ],
      "text/plain": [
       "               PMID QualifierName isMajorTopic QualifierID\n",
       "5567            477    metabolism            N     Q000378\n",
       "5568            477    metabolism            N     Q000378\n",
       "5569            477    metabolism            N     Q000378\n",
       "5570            477    metabolism            N     Q000378\n",
       "5571            477    metabolism            N     Q000378\n",
       "...             ...           ...          ...         ...\n",
       "313314567  36104064  epidemiology            N     Q000453\n",
       "313314567  36104064    psychology            N     Q000523\n",
       "313314572  36104064    psychology            N     Q000523\n",
       "313343835  36112522       methods            N     Q000379\n",
       "313343839  36112522     pathology            N     Q000473\n",
       "\n",
       "[5259607 rows x 4 columns]"
      ]
     },
     "execution_count": 19,
     "metadata": {},
     "output_type": "execute_result"
    }
   ],
   "source": [
    "df_qualifier_commented = df_qualifier.loc[df_qualifier[\"PMID\"].isin(commented_pmid_set)]\n",
    "df_qualifier_commented"
   ]
  },
  {
   "cell_type": "code",
   "execution_count": 21,
   "metadata": {},
   "outputs": [
    {
     "name": "stdout",
     "output_type": "stream",
     "text": [
      "count   26550070.000\n",
      "mean           6.351\n",
      "std            4.662\n",
      "min            1.000\n",
      "25%            3.000\n",
      "50%            5.000\n",
      "75%            9.000\n",
      "max           73.000\n",
      "Name: QualifierID, dtype: float64\n"
     ]
    }
   ],
   "source": [
    "# Pubmed\n",
    "grouped = df_qualifier.groupby(\"PMID\")['QualifierID'].agg(len)\n",
    "print(grouped.describe())"
   ]
  },
  {
   "cell_type": "code",
   "execution_count": 22,
   "metadata": {},
   "outputs": [
    {
     "name": "stdout",
     "output_type": "stream",
     "text": [
      "count   760805.000\n",
      "mean         6.913\n",
      "std          4.884\n",
      "min          1.000\n",
      "25%          3.000\n",
      "50%          6.000\n",
      "75%          9.000\n",
      "max         58.000\n",
      "Name: QualifierID, dtype: float64\n"
     ]
    }
   ],
   "source": [
    "# Commented\n",
    "grouped = df_qualifier_commented.groupby(\"PMID\")['QualifierID'].agg(len)\n",
    "print(grouped.describe())"
   ]
  },
  {
   "cell_type": "markdown",
   "metadata": {},
   "source": [
    "4.4 self-loop"
   ]
  },
  {
   "cell_type": "code",
   "execution_count": 23,
   "metadata": {},
   "outputs": [],
   "source": [
    "# TODO: deal with self loop"
   ]
  },
  {
   "cell_type": "markdown",
   "metadata": {},
   "source": [
    "5. Number of Major Qualifiers"
   ]
  },
  {
   "cell_type": "markdown",
   "metadata": {},
   "source": [
    "5.1 Proportion"
   ]
  },
  {
   "cell_type": "code",
   "execution_count": 25,
   "metadata": {},
   "outputs": [],
   "source": [
    "df_qualifier = df_qualifier[df_qualifier[\"isMajorTopic\"] == \"Y\"]\n",
    "df_qualifier_commented = df_qualifier_commented[df_qualifier_commented[\"isMajorTopic\"] == \"Y\"]"
   ]
  },
  {
   "cell_type": "code",
   "execution_count": 26,
   "metadata": {},
   "outputs": [
    {
     "name": "stdout",
     "output_type": "stream",
     "text": [
      "24349243 / 30010608 = 0.8113545383685662\n"
     ]
    }
   ],
   "source": [
    "# Pubmed\n",
    "major = df_qualifier[\"PMID\"].nunique()\n",
    "total = df[\"PMID\"].nunique(())\n",
    "print(f\"{major} / {total} = {major / total}\")"
   ]
  },
  {
   "cell_type": "code",
   "execution_count": 27,
   "metadata": {},
   "outputs": [
    {
     "name": "stdout",
     "output_type": "stream",
     "text": [
      "700518 / 829791 = 0.8442101685846195\n"
     ]
    }
   ],
   "source": [
    "# Commented\n",
    "major = df_qualifier_commented[\"PMID\"].nunique()\n",
    "total = df_commented[\"PMID\"].nunique(())\n",
    "print(f\"{major} / {total} = {major / total}\")"
   ]
  },
  {
   "cell_type": "markdown",
   "metadata": {},
   "source": [
    "5.2 Distribution"
   ]
  },
  {
   "cell_type": "code",
   "execution_count": 28,
   "metadata": {},
   "outputs": [
    {
     "name": "stdout",
     "output_type": "stream",
     "text": [
      "count   24349243.000\n",
      "mean           2.985\n",
      "std            1.622\n",
      "min            1.000\n",
      "25%            2.000\n",
      "50%            3.000\n",
      "75%            4.000\n",
      "max           35.000\n",
      "Name: QualifierID, dtype: float64\n",
      "count   700518.000\n",
      "mean         3.196\n",
      "std          1.654\n",
      "min          1.000\n",
      "25%          2.000\n",
      "50%          3.000\n",
      "75%          4.000\n",
      "max         28.000\n",
      "Name: QualifierID, dtype: float64\n"
     ]
    }
   ],
   "source": [
    "# Pubmed\n",
    "grouped = df_qualifier.groupby(\"PMID\")['QualifierID'].agg(len)\n",
    "print(grouped.describe())\n",
    "\n",
    "# Commented\n",
    "grouped = df_qualifier_commented.groupby(\"PMID\")['QualifierID'].agg(len)\n",
    "print(grouped.describe())"
   ]
  }
 ],
 "metadata": {
  "kernelspec": {
   "display_name": "base",
   "language": "python",
   "name": "python3"
  },
  "language_info": {
   "codemirror_mode": {
    "name": "ipython",
    "version": 3
   },
   "file_extension": ".py",
   "mimetype": "text/x-python",
   "name": "python",
   "nbconvert_exporter": "python",
   "pygments_lexer": "ipython3",
   "version": "3.8.5"
  },
  "orig_nbformat": 4
 },
 "nbformat": 4,
 "nbformat_minor": 2
}
