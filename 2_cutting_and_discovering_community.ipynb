{
 "cells": [
  {
   "cell_type": "code",
   "execution_count": 1,
   "metadata": {},
   "outputs": [],
   "source": [
    "import networkx as nx\n",
    "import pandas as pd\n",
    "import numpy as np\n",
    "import matplotlib.pyplot as plt\n",
    "import seaborn as sns"
   ]
  },
  {
   "cell_type": "code",
   "execution_count": 2,
   "metadata": {},
   "outputs": [
    {
     "data": {
      "text/plain": [
       "30454"
      ]
     },
     "execution_count": 2,
     "metadata": {},
     "output_type": "execute_result"
    }
   ],
   "source": [
    "# 全局网络 global network\n",
    "G = nx.read_gml(\"../Base_main.gml\")\n",
    "G.number_of_nodes()"
   ]
  },
  {
   "cell_type": "code",
   "execution_count": 3,
   "metadata": {},
   "outputs": [
    {
     "data": {
      "text/plain": [
       "28664"
      ]
     },
     "execution_count": 3,
     "metadata": {},
     "output_type": "execute_result"
    }
   ],
   "source": [
    "# 删除度数为0的节点 delete nodes whose degree is zero\n",
    "degrees = G.degree()\n",
    "remove_nodes = []\n",
    "for node_id, degree in degrees:\n",
    "    if degree == 0:\n",
    "        remove_nodes.append(node_id)\n",
    "G.remove_nodes_from(remove_nodes)\n",
    "\n",
    "G.number_of_nodes()"
   ]
  },
  {
   "cell_type": "code",
   "execution_count": 19,
   "metadata": {},
   "outputs": [
    {
     "data": {
      "text/plain": [
       "6012773"
      ]
     },
     "execution_count": 19,
     "metadata": {},
     "output_type": "execute_result"
    }
   ],
   "source": [
    "G.number_of_edges()"
   ]
  },
  {
   "cell_type": "code",
   "execution_count": 4,
   "metadata": {},
   "outputs": [
    {
     "data": {
      "text/plain": [
       "10"
      ]
     },
     "execution_count": 4,
     "metadata": {},
     "output_type": "execute_result"
    }
   ],
   "source": [
    "# lauvain划分  louvain partitioning\n",
    "parti_louvain = nx.community.louvain_communities(G, seed=123)\n",
    "len(parti_louvain)"
   ]
  },
  {
   "cell_type": "markdown",
   "metadata": {},
   "source": [
    "重要的社区为 1 3 4 5 7 8 9 \\\n",
    "important communities"
   ]
  },
  {
   "cell_type": "code",
   "execution_count": 7,
   "metadata": {},
   "outputs": [
    {
     "name": "stdout",
     "output_type": "stream",
     "text": [
      "[1635, 489, 7660, 1298, 3248, 119, 4845, 3791, 5577, 2]\n",
      "['0.06', '0.02', '0.27', '0.05', '0.11', '0.00', '0.17', '0.13', '0.19', '0.00']\n"
     ]
    }
   ],
   "source": [
    "len_lst = [len(x) for x in parti_louvain]\n",
    "print(len_lst)\n",
    "n = sum(len_lst)\n",
    "print([f\"{x/n:.2f}\" for x in len_lst])"
   ]
  },
  {
   "cell_type": "markdown",
   "metadata": {},
   "source": [
    "将社区划分加入到网络中 \\\n",
    "add community attribute"
   ]
  },
  {
   "cell_type": "code",
   "execution_count": 8,
   "metadata": {},
   "outputs": [],
   "source": [
    "class_cnt = 1\n",
    "for nodes_each_class in parti_louvain:\n",
    "    for node in nodes_each_class:\n",
    "        G.nodes[node][\"community_louvain\"] = class_cnt\n",
    "    class_cnt += 1"
   ]
  },
  {
   "cell_type": "code",
   "execution_count": 12,
   "metadata": {},
   "outputs": [],
   "source": [
    "nx.write_gml(G,\"../Base_main_community.gml\")"
   ]
  },
  {
   "cell_type": "markdown",
   "metadata": {},
   "source": [
    "提取出Comment子图 \\\n",
    "fetch comment subgraph"
   ]
  },
  {
   "cell_type": "code",
   "execution_count": 13,
   "metadata": {},
   "outputs": [
    {
     "data": {
      "text/plain": [
       "30454"
      ]
     },
     "execution_count": 13,
     "metadata": {},
     "output_type": "execute_result"
    }
   ],
   "source": [
    "G_commented = nx.read_gml(\"../Commented_main.gml\")\n",
    "G_commented.number_of_nodes()"
   ]
  },
  {
   "cell_type": "code",
   "execution_count": 14,
   "metadata": {},
   "outputs": [
    {
     "data": {
      "text/plain": [
       "17468"
      ]
     },
     "execution_count": 14,
     "metadata": {},
     "output_type": "execute_result"
    }
   ],
   "source": [
    "# 删除度数为0的节点  delete nodes whose degree is zero\n",
    "degrees_cmt = G_commented.degree()\n",
    "remove_nodes = []\n",
    "for node_id, degree in degrees_cmt:\n",
    "    if degree == 0:\n",
    "        remove_nodes.append(node_id)\n",
    "G_commented.remove_nodes_from(remove_nodes)\n",
    "\n",
    "G_commented.number_of_nodes()"
   ]
  },
  {
   "cell_type": "code",
   "execution_count": 15,
   "metadata": {},
   "outputs": [
    {
     "data": {
      "text/plain": [
       "{'ui': 'D000001', 'name': 'Calcimycin', 'community_louvain': 3}"
      ]
     },
     "execution_count": 15,
     "metadata": {},
     "output_type": "execute_result"
    }
   ],
   "source": [
    "# 评论网络添加社区 add community attribute\n",
    "for node in G_commented.nodes:\n",
    "    G_commented.nodes[node][\"community_louvain\"] = G.nodes[node][\"community_louvain\"]\n",
    "G_commented.nodes['0']"
   ]
  },
  {
   "cell_type": "code",
   "execution_count": 16,
   "metadata": {},
   "outputs": [],
   "source": [
    "nx.write_gml(G_commented,\"../Commented_main_community.gml\")"
   ]
  },
  {
   "cell_type": "code",
   "execution_count": 17,
   "metadata": {},
   "outputs": [
    {
     "name": "stdout",
     "output_type": "stream",
     "text": [
      "Community 1: \n",
      "[('Diet', 107802), ('Body Weight', 49132), ('Nutritional Status', 48401), ('Feeding Behavior', 43190), ('Nutritional Physiological Phenomena', 35662), ('Growth', 30891), ('Infant, Premature', 30383), ('Food', 28580), ('Plants, Medicinal', 27505), ('Body Mass Index', 27374)]\n",
      "Community 2: \n",
      "[('Electroencephalography', 52892), ('Attention', 46385), ('Reflex', 37109), ('Visual Perception', 33681), ('Behavior, Animal', 32514), ('Pattern Recognition, Visual', 30079), ('Memory', 29289), ('Nervous System Physiological Phenomena', 26270), ('Movement', 25827), ('Speech Perception', 24496)]\n",
      "Community 3: \n",
      "[('Research', 791779), ('Pharmacology', 246567), ('Toxicology', 156843), ('Metabolism', 148845), ('Anti-Bacterial Agents', 96754), ('Drug Therapy', 90666), ('Kidney', 87673), ('Physiology', 84185), ('Urine', 82301), ('Blood', 81409)]\n",
      "Community 4: \n",
      "[('Blood Pressure', 85328), ('Anesthesia', 79942), ('Electrocardiography', 74638), ('Heart', 68801), ('Respiration', 60277), ('Hemodynamics', 43346), ('Blood Pressure Determination', 41957), ('Heart Rate', 41905), ('Cardiac Surgical Procedures', 41826), ('Physical Exertion', 39649)]\n",
      "Community 5: \n",
      "[('Models, Biological', 115973), ('Models, Theoretical', 98960), ('Algorithms', 72447), ('Computer Simulation', 64793), ('Software', 60741), ('Temperature', 60192), ('Tomography, X-Ray Computed', 57810), ('Ecosystem', 53643), ('Magnetic Resonance Imaging', 52132), ('Hot Temperature', 47713)]\n",
      "Community 6: \n",
      "[('Pandemics', 46414), ('Pneumonia, Viral', 37039), ('Coronavirus Infections', 35738), ('Betacoronavirus', 17768), ('Influenza, Human', 15721), ('SARS-CoV-2', 10404), ('COVID-19 Drug Treatment', 7692), ('Influenza Vaccines', 7125), ('Influenza A Virus, H1N1 Subtype', 6345), ('Coronavirus', 5556)]\n",
      "Community 7: \n",
      "[('Mutation', 99840), ('Biological Evolution', 58618), ('Genetic Variation', 51772), ('Gene Expression Regulation', 48806), ('Transcription, Genetic', 48705), ('Signal Transduction', 48674), ('Phylogeny', 44312), ('Evolution, Molecular', 43321), ('Kidney Transplantation', 41580), ('Polymorphism, Genetic', 41448)]\n",
      "Community 8: \n",
      "[('Attitude of Health Personnel', 109904), ('Biomedical Research', 101919), ('Health Knowledge, Attitudes, Practice', 99921), ('Statistics as Topic', 89744), ('Quality of Life', 81501), ('Communication', 76982), ('Medicine', 75489), ('Physicians', 72455), ('Decision Making', 72391), ('Hospitals', 71856)]\n",
      "Community 9: \n",
      "[('Neoplasms', 247210), ('Disease', 200838), ('Pathology', 167408), ('Tuberculosis', 117534), ('Medical Records', 116775), ('Surgical Procedures, Operative', 114015), ('Geriatrics', 103460), ('Postoperative Complications', 75854), ('Diagnosis, Differential', 74127), ('Brain', 73457)]\n",
      "Community 10: \n",
      "[('Nuclear Receptor Subfamily 2, Group C, Member 1', 1), ('Nuclear Receptor Subfamily 2, Group C, Member 2', 1)]\n"
     ]
    }
   ],
   "source": [
    "# All 各个社区最高加权度 highest weighted degree in each community\n",
    "weighted_degrees = dict(G.degree(weight='weight'))\n",
    "\n",
    "for idx, c in enumerate(parti_louvain):\n",
    "    print(f\"Community {idx+1}: \")\n",
    "    nodes = {G.nodes[n][\"name\"]:weighted_degrees[n] for n in c}\n",
    "    print(sorted(nodes.items(), key=lambda x: x[1], reverse=True)[:10])"
   ]
  },
  {
   "cell_type": "code",
   "execution_count": 18,
   "metadata": {},
   "outputs": [
    {
     "name": "stdout",
     "output_type": "stream",
     "text": [
      "Community 1: \n",
      "[('Diet', 1975), ('Body Mass Index', 1571), ('Diabetes Mellitus, Type 2', 1538), ('Feeding Behavior', 1136), ('Infant, Premature', 1001), ('Bariatric Surgery', 956), ('Weight Loss', 955), ('Pregnancy Outcome', 921), ('Obesity, Morbid', 917), ('Dietary Supplements', 854)]\n",
      "Community 2: \n",
      "[('Attention', 1003), ('Behavior, Animal', 662), ('Mental Recall', 589), ('Visual Perception', 556), ('Reading', 536), ('Psychomotor Performance', 507), ('Semantics', 501), ('Memory', 485), ('Pattern Recognition, Visual', 471), ('Concept Formation', 448)]\n",
      "Community 3: \n",
      "[('Research', 1642), ('Blood Transfusion', 674), ('Vaccination', 595), ('Anti-Bacterial Agents', 509), ('Blood Donors', 456), ('Antineoplastic Agents', 384), ('Vaccines', 381), ('Antiviral Agents', 341), ('Hypnotics and Sedatives', 335), ('Fishes', 331)]\n",
      "Community 4: \n",
      "[('Stents', 3453), ('Percutaneous Coronary Intervention', 2684), ('Heart Failure', 2536), ('Heart Valve Prosthesis', 2231), ('Atrial Fibrillation', 2081), ('Cardiac Surgical Procedures', 1935), ('Cardiovascular Diseases', 1784), ('Ventricular Function, Left', 1780), ('Coronary Artery Bypass', 1768), ('Coronary Artery Disease', 1717)]\n",
      "Community 5: \n",
      "[('Magnetic Resonance Imaging', 2884), ('Tomography, X-Ray Computed', 2865), ('Models, Biological', 2446), ('Ecosystem', 2314), ('Algorithms', 1982), ('Models, Theoretical', 1748), ('Models, Statistical', 1726), ('Computer Simulation', 1284), ('Radiopharmaceuticals', 1263), ('Conservation of Natural Resources', 1253)]\n",
      "Community 6: \n",
      "[('Pandemics', 5033), ('Coronavirus Infections', 4366), ('Pneumonia, Viral', 4273), ('Betacoronavirus', 2177), ('Coronavirus', 857), ('SARS-CoV-2', 814), ('Influenza, Human', 363), ('Influenza A Virus, H1N1 Subtype', 342), ('COVID-19 Drug Treatment', 278), ('Severe acute respiratory syndrome-related coronavirus', 245)]\n",
      "Community 7: \n",
      "[('Biological Evolution', 2980), ('Mutation', 2558), ('Kidney Transplantation', 1806), ('Liver Transplantation', 1786), ('Signal Transduction', 1483), ('Genetic Predisposition to Disease', 1468), ('Genetic Variation', 1292), ('Evolution, Molecular', 1271), ('Tissue Donors', 1180), ('Hematopoietic Stem Cell Transplantation', 1122)]\n",
      "Community 8: \n",
      "[('Attitude of Health Personnel', 5839), ('COVID-19', 5164), ('Quality of Life', 4908), ('Ethics, Medical', 4171), ('Physician-Patient Relations', 3999), ('Decision Making', 3686), ('Clinical Competence', 3498), ('Health Knowledge, Attitudes, Practice', 3493), ('Internship and Residency', 3462), ('Communication', 3036)]\n",
      "Community 9: \n",
      "[('Postoperative Complications', 2665), ('Laparoscopy', 2262), ('Stroke', 2110), ('Neoplasms', 2019), ('Lung Neoplasms', 1739), ('Catheter Ablation', 1576), ('Hypertension', 1494), ('Endovascular Procedures', 1288), ('Breast Neoplasms', 1204), ('Liver Neoplasms', 1203)]\n",
      "Community 10: \n",
      "[]\n"
     ]
    }
   ],
   "source": [
    "# Commented 各个社区最高加权度 highest weighted degree in each community\n",
    "weighted_degrees = dict(G_commented.degree(weight='weight'))\n",
    "\n",
    "for idx, c in enumerate(parti_louvain):\n",
    "    print(f\"Community {idx+1}: \")\n",
    "    nodes = {G_commented.nodes[n][\"name\"]:weighted_degrees[n] for n in c if G_commented.has_node(n)}\n",
    "    print(sorted(nodes.items(), key=lambda x: x[1], reverse=True)[:10])"
   ]
  },
  {
   "cell_type": "code",
   "execution_count": 4,
   "metadata": {},
   "outputs": [
    {
     "data": {
      "text/plain": [
       "17468"
      ]
     },
     "execution_count": 4,
     "metadata": {},
     "output_type": "execute_result"
    }
   ],
   "source": [
    "G_commented = nx.read_gml(\"../Commented_main_community_norm.gml\")\n",
    "G_commented.number_of_nodes()"
   ]
  },
  {
   "cell_type": "code",
   "execution_count": 6,
   "metadata": {},
   "outputs": [
    {
     "name": "stdout",
     "output_type": "stream",
     "text": [
      "属性值 3: 3356 个节点\n",
      "属性值 5: 2015 个节点\n",
      "属性值 8: 3240 个节点\n",
      "属性值 9: 3996 个节点\n",
      "属性值 7: 2610 个节点\n",
      "属性值 1: 777 个节点\n",
      "属性值 4: 1017 个节点\n",
      "属性值 2: 391 个节点\n",
      "属性值 6: 66 个节点\n"
     ]
    }
   ],
   "source": [
    "attribute_counts = {}\n",
    "\n",
    "# 遍历所有节点 traver all nodes\n",
    "for node, attributes in G_commented.nodes(data=True):\n",
    "    # 获取节点的\"community_louvain\"属性值 get community attribute\n",
    "    community_value = attributes.get(\"community_louvain\")\n",
    "\n",
    "    # 更新属性值计数 update attribute count\n",
    "    if community_value in attribute_counts:\n",
    "        attribute_counts[community_value] += 1\n",
    "    else:\n",
    "        attribute_counts[community_value] = 1\n",
    "\n",
    "for attribute_value, count in attribute_counts.items():\n",
    "    print(f\"属性值 {attribute_value}: {count} 个节点\")"
   ]
  },
  {
   "cell_type": "code",
   "execution_count": 8,
   "metadata": {},
   "outputs": [
    {
     "data": {
      "text/plain": [
       "[777, 391, 3356, 1017, 2015, 66, 2610, 3240, 3996]"
      ]
     },
     "execution_count": 8,
     "metadata": {},
     "output_type": "execute_result"
    }
   ],
   "source": [
    "[i[1] for i in sorted(list(attribute_counts.items()), key=lambda x:x[0])]"
   ]
  },
  {
   "cell_type": "code",
   "execution_count": null,
   "metadata": {},
   "outputs": [],
   "source": []
  }
 ],
 "metadata": {
  "kernelspec": {
   "display_name": "Python 3",
   "language": "python",
   "name": "python3"
  },
  "language_info": {
   "codemirror_mode": {
    "name": "ipython",
    "version": 3
   },
   "file_extension": ".py",
   "mimetype": "text/x-python",
   "name": "python",
   "nbconvert_exporter": "python",
   "pygments_lexer": "ipython3",
   "version": "3.8.13"
  },
  "orig_nbformat": 4
 },
 "nbformat": 4,
 "nbformat_minor": 2
}
